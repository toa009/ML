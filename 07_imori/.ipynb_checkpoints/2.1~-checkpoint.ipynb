{
 "cells": [
  {
   "cell_type": "markdown",
   "metadata": {},
   "source": [
    "2.1\n",
    "\n",
    "教師あり学習：\n",
    " 1. クラス分類 : クラスラベルの予測\n",
    " 2. 回帰 : 連続値の予測（年収予測、収穫量予測）\n",
    " \n",
    "2.2 \n",
    " \n",
    "汎化：　初見データに対して正確に予測できること\n",
    "\n",
    "過剰適応：　訓練データに対しては正確に予測できるが、未知データに対しては正確に予測できないこと（モデルが複雑過ぎる）\n",
    "\n",
    "適合不足：　訓練データに対してすら正確に予測できないこと（モデルが単純すぎる）\n",
    "\n",
    "トレードオフ：　モデルが単純過ぎず、複雑過ぎない状態がベスト（最良の汎化制度）\n",
    "\n",
    "教師あり学習の性能向上のコツ：　1. 適度な複雑さ 2. 充分なデータ量\n",
    "\n",
    "2.3 教師ありアルゴリズム例\n",
    "\n",
    "2.3.1 サンプルデータセットの紹介\n"
   ]
  },
  {
   "cell_type": "code",
   "execution_count": 80,
   "metadata": {},
   "outputs": [],
   "source": [
    "# インポート集\n",
    "import numpy as np\n",
    "import pandas as pd\n",
    "import matplotlib.pyplot as plt\n",
    "import mglearn\n",
    "import os\n",
    "%matplotlib inline"
   ]
  },
  {
   "cell_type": "code",
   "execution_count": 81,
   "metadata": {},
   "outputs": [
    {
     "name": "stderr",
     "output_type": "stream",
     "text": [
      "C:\\Users\\toa\\Anaconda3\\lib\\site-packages\\sklearn\\utils\\deprecation.py:77: DeprecationWarning: Function make_blobs is deprecated; Please import make_blobs directly from scikit-learn\n",
      "  warnings.warn(msg, category=DeprecationWarning)\n"
     ]
    },
    {
     "data": {
      "text/plain": [
       "(26, 2)"
      ]
     },
     "execution_count": 81,
     "metadata": {},
     "output_type": "execute_result"
    }
   ],
   "source": [
    "# 2クラス分類用データセット（forgeデータセット）\n",
    "x, y = mglearn.datasets.make_forge()\n",
    "x.shape"
   ]
  },
  {
   "cell_type": "code",
   "execution_count": 82,
   "metadata": {},
   "outputs": [],
   "source": [
    "# -> 特徴量は2つ（xの1列目と2列目）"
   ]
  },
  {
   "cell_type": "code",
   "execution_count": 83,
   "metadata": {},
   "outputs": [
    {
     "data": {
      "text/plain": [
       "array([[ 9.96346605,  4.59676542],\n",
       "       [11.0329545 , -0.16816717],\n",
       "       [11.54155807,  5.21116083],\n",
       "       [ 8.69289001,  1.54322016],\n",
       "       [ 8.1062269 ,  4.28695977]])"
      ]
     },
     "execution_count": 83,
     "metadata": {},
     "output_type": "execute_result"
    }
   ],
   "source": [
    "x[:5]"
   ]
  },
  {
   "cell_type": "code",
   "execution_count": 84,
   "metadata": {},
   "outputs": [
    {
     "data": {
      "text/plain": [
       "array([1, 0, 1, 0, 0])"
      ]
     },
     "execution_count": 84,
     "metadata": {},
     "output_type": "execute_result"
    }
   ],
   "source": [
    "y[:5]"
   ]
  },
  {
   "cell_type": "code",
   "execution_count": 85,
   "metadata": {},
   "outputs": [],
   "source": [
    "# -> y：0 or 1のラベル"
   ]
  },
  {
   "cell_type": "code",
   "execution_count": 86,
   "metadata": {},
   "outputs": [
    {
     "data": {
      "image/png": "[encoded data removed]",
      "text/plain": [
       "<Figure size 432x288 with 1 Axes>"
      ]
     },
     "metadata": {
      "needs_background": "light"
     },
     "output_type": "display_data"
    }
   ],
   "source": [
    "# 散布図（yのラベル別に色分けした散布図）\n",
    "mglearn.discrete_scatter(x[:,0], x[:,1], y);"
   ]
  },
  {
   "cell_type": "code",
   "execution_count": 87,
   "metadata": {},
   "outputs": [
    {
     "data": {
      "text/plain": [
       "(40, 1)"
      ]
     },
     "execution_count": 87,
     "metadata": {},
     "output_type": "execute_result"
    }
   ],
   "source": [
    "# 回帰用データセット（waveデータセット）\n",
    "x,y = mglearn.datasets.make_wave(n_samples=40)\n",
    "x.shape"
   ]
  },
  {
   "cell_type": "code",
   "execution_count": 88,
   "metadata": {},
   "outputs": [],
   "source": [
    "# -> x：入力値（xの1列目）（特徴量）"
   ]
  },
  {
   "cell_type": "code",
   "execution_count": 89,
   "metadata": {},
   "outputs": [
    {
     "data": {
      "text/plain": [
       "(40,)"
      ]
     },
     "execution_count": 89,
     "metadata": {},
     "output_type": "execute_result"
    }
   ],
   "source": [
    "y.shape"
   ]
  },
  {
   "cell_type": "code",
   "execution_count": 90,
   "metadata": {},
   "outputs": [
    {
     "data": {
      "text/plain": [
       "array([-0.44822073,  0.33122576,  0.77932073,  0.03497884, -1.38773632])"
      ]
     },
     "execution_count": 90,
     "metadata": {},
     "output_type": "execute_result"
    }
   ],
   "source": [
    "y[:5]"
   ]
  },
  {
   "cell_type": "code",
   "execution_count": 91,
   "metadata": {},
   "outputs": [],
   "source": [
    "# -> y：出力値（連続値）"
   ]
  },
  {
   "cell_type": "code",
   "execution_count": 92,
   "metadata": {},
   "outputs": [
    {
     "data": {
      "image/png": "[encoded data removed]",
      "text/plain": [
       "<Figure size 432x288 with 1 Axes>"
      ]
     },
     "metadata": {
      "needs_background": "light"
     },
     "output_type": "display_data"
    }
   ],
   "source": [
    "# 散布図（入力：特徴量x）（出力：連続値y）\n",
    "plt.plot(x,y,'o');"
   ]
  },
  {
   "cell_type": "code",
   "execution_count": 93,
   "metadata": {},
   "outputs": [],
   "source": [
    "# 低次元データでの直感は、高次元データにあてはまるとは限らない"
   ]
  },
  {
   "cell_type": "code",
   "execution_count": 94,
   "metadata": {},
   "outputs": [
    {
     "data": {
      "text/plain": [
       "dict_keys(['data', 'target', 'target_names', 'DESCR', 'feature_names'])"
      ]
     },
     "execution_count": 94,
     "metadata": {},
     "output_type": "execute_result"
    }
   ],
   "source": [
    "# 2クラス分類用データセット：　cancerデータセット：　乳がんの腫瘍計測データ（良性（benign）、悪性（malignant））\n",
    "from sklearn.datasets import load_breast_cancer\n",
    "d = load_breast_cancer()\n",
    "d.keys()"
   ]
  },
  {
   "cell_type": "code",
   "execution_count": 95,
   "metadata": {},
   "outputs": [
    {
     "data": {
      "text/plain": [
       "sklearn.utils.Bunch"
      ]
     },
     "execution_count": 95,
     "metadata": {},
     "output_type": "execute_result"
    }
   ],
   "source": [
    "type(d)"
   ]
  },
  {
   "cell_type": "code",
   "execution_count": 96,
   "metadata": {},
   "outputs": [],
   "source": [
    "# -> d：Bunch型（実データ　＋　説明用データ）（辞書のように使える）（ドットで属性にアクセス）"
   ]
  },
  {
   "cell_type": "code",
   "execution_count": 97,
   "metadata": {},
   "outputs": [
    {
     "data": {
      "text/plain": [
       "(569, 30)"
      ]
     },
     "execution_count": 97,
     "metadata": {},
     "output_type": "execute_result"
    }
   ],
   "source": [
    "d.data.shape"
   ]
  },
  {
   "cell_type": "code",
   "execution_count": 98,
   "metadata": {},
   "outputs": [],
   "source": [
    "# -> 特徴量30個"
   ]
  },
  {
   "cell_type": "code",
   "execution_count": 99,
   "metadata": {},
   "outputs": [
    {
     "name": "stdout",
     "output_type": "stream",
     "text": [
      "malignant 212\n",
      "benign 357\n"
     ]
    }
   ],
   "source": [
    "# 出力名とそのカウント数\n",
    "for n,v in zip(d.target_names, np.bincount(d.target)):\n",
    "    print(n,v)"
   ]
  },
  {
   "cell_type": "code",
   "execution_count": 100,
   "metadata": {},
   "outputs": [],
   "source": [
    "# -> malignant（悪性）：212個\n",
    "#    benign（良性）   ：357個"
   ]
  },
  {
   "cell_type": "code",
   "execution_count": 101,
   "metadata": {},
   "outputs": [
    {
     "data": {
      "text/plain": [
       "array(['mean radius', 'mean texture', 'mean perimeter', 'mean area',\n",
       "       'mean smoothness', 'mean compactness', 'mean concavity',\n",
       "       'mean concave points', 'mean symmetry', 'mean fractal dimension',\n",
       "       'radius error', 'texture error', 'perimeter error', 'area error',\n",
       "       'smoothness error', 'compactness error', 'concavity error',\n",
       "       'concave points error', 'symmetry error',\n",
       "       'fractal dimension error', 'worst radius', 'worst texture',\n",
       "       'worst perimeter', 'worst area', 'worst smoothness',\n",
       "       'worst compactness', 'worst concavity', 'worst concave points',\n",
       "       'worst symmetry', 'worst fractal dimension'], dtype='<U23')"
      ]
     },
     "execution_count": 101,
     "metadata": {},
     "output_type": "execute_result"
    }
   ],
   "source": [
    "# 特徴量の名前\n",
    "d.feature_names"
   ]
  },
  {
   "cell_type": "code",
   "execution_count": 102,
   "metadata": {},
   "outputs": [
    {
     "data": {
      "text/plain": [
       "(506, 13)"
      ]
     },
     "execution_count": 102,
     "metadata": {},
     "output_type": "execute_result"
    }
   ],
   "source": [
    "# 回帰用データセット：　boston_housingデータセット（1970年代のボストンの住宅価格予測）\n",
    "from sklearn.datasets import load_boston\n",
    "d = load_boston()\n",
    "d.data.shape"
   ]
  },
  {
   "cell_type": "code",
   "execution_count": 103,
   "metadata": {},
   "outputs": [],
   "source": [
    "# -> 特徴量13個"
   ]
  },
  {
   "cell_type": "code",
   "execution_count": 104,
   "metadata": {},
   "outputs": [
    {
     "data": {
      "text/plain": [
       "(506, 104)"
      ]
     },
     "execution_count": 104,
     "metadata": {},
     "output_type": "execute_result"
    }
   ],
   "source": [
    "# 特徴量同士の積も特徴量として含めたバージョン（拡張バージョン）\n",
    "x,y = mglearn.datasets.load_extended_boston()\n",
    "x.shape"
   ]
  },
  {
   "cell_type": "code",
   "execution_count": 105,
   "metadata": {},
   "outputs": [],
   "source": [
    "# -> 特徴量が13個から104個に拡張されている"
   ]
  },
  {
   "cell_type": "markdown",
   "metadata": {},
   "source": [
    "【公式】組み合わせの数（重複なし）：m個の中から重複なしでn個を選ぶ場合の数： m C n = m! / (n! (m−n)!) \n",
    "\n",
    "【公式】組み合わせの数（重複あり）：m個の中から重複ありでn個を選ぶ場合の数： n H r = n+r−1 C r"
   ]
  },
  {
   "cell_type": "code",
   "execution_count": 106,
   "metadata": {},
   "outputs": [],
   "source": [
    "# 13個の中から重複ありで2個を選ぶ場合の数：　13 H 2 = 13 + 2 - 1 C 2 = 14 C 2 = 14 x 13 / 2 = 7 x 13 = 91通り\n",
    "# 元の13個を足して　91 + 13 = 104個の特徴量に拡張したということ。"
   ]
  },
  {
   "cell_type": "markdown",
   "metadata": {},
   "source": [
    "2.3.2 k-最近傍法\n",
    "- 最も単純\n",
    "- モデル構築：　訓練データの格納だけ\n",
    "- 予測：　訓練データの中から最も近い点（最近傍点）を探して、そのクラスの多数決結果を採用するだけ"
   ]
  },
  {
   "cell_type": "code",
   "execution_count": 107,
   "metadata": {},
   "outputs": [
    {
     "name": "stderr",
     "output_type": "stream",
     "text": [
      "C:\\Users\\toa\\Anaconda3\\lib\\site-packages\\sklearn\\utils\\deprecation.py:77: DeprecationWarning: Function make_blobs is deprecated; Please import make_blobs directly from scikit-learn\n",
      "  warnings.warn(msg, category=DeprecationWarning)\n"
     ]
    },
    {
     "data": {
      "image/png": "[encoded data removed]",
      "text/plain": [
       "<Figure size 432x288 with 1 Axes>"
      ]
     },
     "metadata": {
      "needs_background": "light"
     },
     "output_type": "display_data"
    }
   ],
   "source": [
    "# k-最近傍法 x forgeデータセット（近傍点数：1点）\n",
    "mglearn.plots.plot_knn_classification(n_neighbors=1);"
   ]
  },
  {
   "cell_type": "code",
   "execution_count": 108,
   "metadata": {},
   "outputs": [],
   "source": [
    "# -> 星印：予測したいデータ（テストデータ）\n",
    "#    予測：星印を、最寄りの1点のクラスと同じクラスと予測するだけ（最近傍点のクラスを採用）"
   ]
  },
  {
   "cell_type": "code",
   "execution_count": 109,
   "metadata": {},
   "outputs": [
    {
     "name": "stderr",
     "output_type": "stream",
     "text": [
      "C:\\Users\\toa\\Anaconda3\\lib\\site-packages\\sklearn\\utils\\deprecation.py:77: DeprecationWarning: Function make_blobs is deprecated; Please import make_blobs directly from scikit-learn\n",
      "  warnings.warn(msg, category=DeprecationWarning)\n"
     ]
    },
    {
     "data": {
      "image/png": "[encoded data removed]",
      "text/plain": [
       "<Figure size 432x288 with 1 Axes>"
      ]
     },
     "metadata": {
      "needs_background": "light"
     },
     "output_type": "display_data"
    }
   ],
   "source": [
    "# k-最近傍法 x forgeデータセット（近傍点数：3点）\n",
    "mglearn.plots.plot_knn_classification(n_neighbors=3);"
   ]
  },
  {
   "cell_type": "code",
   "execution_count": 110,
   "metadata": {},
   "outputs": [],
   "source": [
    "# -> 星印：予測したいデータ（テストデータ）\n",
    "#    予測：星印を、最寄りの3点のクラスの多数決と同じクラスと予測する"
   ]
  },
  {
   "cell_type": "code",
   "execution_count": 111,
   "metadata": {},
   "outputs": [
    {
     "name": "stderr",
     "output_type": "stream",
     "text": [
      "C:\\Users\\toa\\Anaconda3\\lib\\site-packages\\sklearn\\utils\\deprecation.py:77: DeprecationWarning: Function make_blobs is deprecated; Please import make_blobs directly from scikit-learn\n",
      "  warnings.warn(msg, category=DeprecationWarning)\n"
     ]
    },
    {
     "name": "stdout",
     "output_type": "stream",
     "text": [
      "0.8571428571428571\n"
     ]
    }
   ],
   "source": [
    "# k-最近傍法 x forgeデータセット x 精度算出\n",
    "from sklearn.model_selection import train_test_split\n",
    "x,y = mglearn.datasets.make_forge()\n",
    "ax,ex,ay,ey = train_test_split(x,y,random_state=0)\n",
    "\n",
    "from sklearn.neighbors import KNeighborsClassifier\n",
    "m = KNeighborsClassifier(n_neighbors=3)\n",
    "m.fit(ax,ay)\n",
    "# print(m.predict(ex))\n",
    "print(m.score(ex,ey))"
   ]
  },
  {
   "cell_type": "code",
   "execution_count": 112,
   "metadata": {},
   "outputs": [],
   "source": [
    "# -> 85%（高精度）で使用可能。"
   ]
  },
  {
   "cell_type": "markdown",
   "metadata": {},
   "source": [
    "2.3.2.2 KNeighborsClassifierの解析\n",
    "- 2次元平面を分類結果で色分けしてみる"
   ]
  },
  {
   "cell_type": "code",
   "execution_count": 113,
   "metadata": {},
   "outputs": [
    {
     "data": {
      "image/png": "[encoded data removed]",
      "text/plain": [
       "<Figure size 720x216 with 3 Axes>"
      ]
     },
     "metadata": {},
     "output_type": "display_data"
    }
   ],
   "source": [
    "# k-最近傍法 x forgeデータセット x 分類境界を色分け\n",
    "f,a1= plt.subplots(1,3, figsize=(10,3))\n",
    "l = [1,3,9] # 最近傍点数は1,3,9の3種類をプロット\n",
    "for n,a in zip(l, a1):\n",
    "    m = KNeighborsClassifier(n_neighbors=n).fit(x,y)\n",
    "    \n",
    "    # 境界色塗り\n",
    "    mglearn.plots.plot_2d_separator(m, x, fill=True, eps=0.5, ax=a, alpha=0.4)\n",
    "    \n",
    "    # 散布図\n",
    "    mglearn.discrete_scatter(x[:,0], x[:,1], y, ax=a)\n",
    "    a.set_title(n)\n",
    "    \n",
    "a1[0].legend();"
   ]
  },
  {
   "cell_type": "code",
   "execution_count": 114,
   "metadata": {},
   "outputs": [],
   "source": [
    "# -> 最近傍点数が増えると（1 -> 9)、境界線がなめらかになる（モデルの単純化）\n",
    "# 　 （仮に最近傍点数＝全データ数とすると、全予測結果は同じで境界なし）"
   ]
  },
  {
   "cell_type": "code",
   "execution_count": 115,
   "metadata": {},
   "outputs": [
    {
     "data": {
      "image/png": "[encoded data removed]",
      "text/plain": [
       "<Figure size 432x288 with 1 Axes>"
      ]
     },
     "metadata": {
      "needs_background": "light"
     },
     "output_type": "display_data"
    }
   ],
   "source": [
    "# モデルの複雑さと汎化性能の関係をプロット\n",
    "from sklearn.datasets import load_breast_cancer\n",
    "d = load_breast_cancer()\n",
    "ax,ex,ay,ey = train_test_split(d.data, d.target, stratify=d.target, random_state=66)\n",
    "\n",
    "aa = [] # 訓練精度\n",
    "ea = [] # テスト精度\n",
    "\n",
    "ns = range(1, 11) # 最近傍点数を1から10まで試す\n",
    "\n",
    "for n in ns:\n",
    "    m = KNeighborsClassifier(n_neighbors=n).fit(ax,ay)\n",
    "    aa.append(m.score(ax, ay))\n",
    "    ea.append(m.score(ex, ey))\n",
    "\n",
    "plt.plot(ns, aa, label=\"train acc\")\n",
    "plt.plot(ns, ea, label=\"test acc\")\n",
    "plt.legend();\n"
   ]
  },
  {
   "cell_type": "code",
   "execution_count": 116,
   "metadata": {},
   "outputs": [],
   "source": [
    "# -> 多数決を採る近傍点数を増やすと、訓練データに対する精度は落ちるが、\n",
    "#    テストデータに対する精度は上がる（＝汎化性能は上がる）\n",
    "#    ベストなのは n = 6 程度だが、最低でも0.88程度はあるため、場合によってはこれで充分"
   ]
  },
  {
   "cell_type": "markdown",
   "metadata": {},
   "source": [
    "2.3.2.3 k-近傍回帰\n",
    "- k-最近傍法の回帰版"
   ]
  },
  {
   "cell_type": "code",
   "execution_count": 117,
   "metadata": {},
   "outputs": [
    {
     "data": {
      "image/png": "[encoded data removed]",
      "text/plain": [
       "<Figure size 720x432 with 1 Axes>"
      ]
     },
     "metadata": {
      "needs_background": "light"
     },
     "output_type": "display_data"
    }
   ],
   "source": [
    "# k-最近傍回帰 x waveデータセット（近傍点数=1)\n",
    "mglearn.plots.plot_knn_regression(n_neighbors=1)"
   ]
  },
  {
   "cell_type": "code",
   "execution_count": 118,
   "metadata": {},
   "outputs": [],
   "source": [
    "# -> 星（予測したい点。テストデータ）に最も近い1点のy値を採用。"
   ]
  },
  {
   "cell_type": "code",
   "execution_count": 119,
   "metadata": {},
   "outputs": [
    {
     "data": {
      "image/png": "[encoded data removed]",
      "text/plain": [
       "<Figure size 720x432 with 1 Axes>"
      ]
     },
     "metadata": {
      "needs_background": "light"
     },
     "output_type": "display_data"
    }
   ],
   "source": [
    "# k-最近傍回帰 x waveデータセット（近傍点数=3)\n",
    "mglearn.plots.plot_knn_regression(n_neighbors=3)"
   ]
  },
  {
   "cell_type": "code",
   "execution_count": 120,
   "metadata": {},
   "outputs": [],
   "source": [
    "# -> 星（予測したい点。テストデータ）に最も近い3点のy値の平均値を採用。"
   ]
  },
  {
   "cell_type": "code",
   "execution_count": 121,
   "metadata": {},
   "outputs": [
    {
     "data": {
      "text/plain": [
       "0.8344172446249604"
      ]
     },
     "execution_count": 121,
     "metadata": {},
     "output_type": "execute_result"
    }
   ],
   "source": [
    "# k-最近傍回帰 x waveデータセット（近傍点数=3) x 精度算出\n",
    "from sklearn.neighbors import KNeighborsRegressor\n",
    "x,y = mglearn.datasets.make_wave(n_samples=40)\n",
    "ax,ex,ay,ey = train_test_split(x,y,random_state=0)\n",
    "m = KNeighborsRegressor(n_neighbors=3)\n",
    "m.fit(ax,ay)\n",
    "# m.predict(ex)\n",
    "m.score(ex,ey)"
   ]
  },
  {
   "cell_type": "code",
   "execution_count": 122,
   "metadata": {},
   "outputs": [],
   "source": [
    "# -> 精度83%で良好（R^2スコア（＝決定係数。回帰モデルの予測の正確さを表す指標。0：ayの平均を返すだけ））"
   ]
  },
  {
   "cell_type": "markdown",
   "metadata": {},
   "source": [
    "2.3.2.4 KNeighborsRegressorの解析\n",
    "- 1次元の全ての値に対する予測をプロットしてみる"
   ]
  },
  {
   "cell_type": "code",
   "execution_count": 123,
   "metadata": {},
   "outputs": [
    {
     "name": "stderr",
     "output_type": "stream",
     "text": [
      "No handles with labels found to put in legend.\n"
     ]
    },
    {
     "data": {
      "image/png": "[encoded data removed]",
      "text/plain": [
       "<Figure size 1080x288 with 3 Axes>"
      ]
     },
     "metadata": {
      "needs_background": "light"
     },
     "output_type": "display_data"
    }
   ],
   "source": [
    "# k-最近傍回帰 x waveデータセット（近傍点数=3) x 精度算出\n",
    "f, a1 = plt.subplots(1,3, figsize=(15,4))\n",
    "l = np.linspace(-3,3,1000).reshape(-1,1)\n",
    "for n, a in zip([1,3,9], a1):\n",
    "    m = KNeighborsRegressor(n_neighbors=n)\n",
    "    m.fit(ax, ay)\n",
    "    \n",
    "    # 予測結果プロット\n",
    "    a.plot(l, m.predict(l))\n",
    "    \n",
    "    # 訓練データプロット\n",
    "    a.plot(ax, ay, '^')\n",
    "    \n",
    "    # テストデータプロット\n",
    "    a.plot(ex,ey, 'v')\n",
    "    a.set_title(\"n={}, aa={:.2f}, ea={:.2f}\".format(n, m.score(ax,ay), m.score(ex, ey)))\n",
    "    \n",
    "a1[0].legend();"
   ]
  },
  {
   "cell_type": "code",
   "execution_count": 124,
   "metadata": {},
   "outputs": [],
   "source": [
    "# -> 近傍点数nが小さくても大きくてもテストスコアeaは下がる"
   ]
  },
  {
   "cell_type": "markdown",
   "metadata": {},
   "source": [
    "2.3.2.5 利点と欠点とパラメータ\n",
    "\n",
    "k最近傍分類器の重要なパラメータ：\n",
    " 1. 近傍点数（3や5が多い。調整必須）\n",
    " 2. データポイント間の距離測度（デフォルトのユークリッド距離がほとんど）\n",
    " 3. （前処理も重要）\n",
    " \n",
    "長所：\n",
    " 1. モデルが理解しやすい\n",
    " 2. あまり調整しなくても精度充分な場合が多い\n",
    " 3. データ小なら高速\n",
    " \n",
    "短所：\n",
    " 1. データ大で遅い（特徴量数でもサンプル数でも）\n",
    " 2. 特徴量数が数百以上では機能しない\n",
    " 3. 疎なデータセットでは特に性能悪い\n",
    " 4. （→　これらの欠点を持たない線形モデルなどがあるため、実際には殆ど使われていない）\n",
    " \n",
    "\n"
   ]
  },
  {
   "cell_type": "markdown",
   "metadata": {},
   "source": [
    "2.3.3 線形モデル\n",
    "- 実用的に広く使われている\n",
    "- 入力特徴量の線形関数を用いて予測\n",
    "\n",
    "2.3.3.1 線形モデルによる回帰\n",
    "\n",
    "予測式：　y = wx + b （ただし wx = w[0] x[0] + w[1] x[1] + ... )\n",
    " - x：　特徴量\n",
    " - w：　学習されたパラメータ（傾き。重み）\n",
    " - b：　学習されたパラメータ（切片）\n",
    " - y：　予測"
   ]
  },
  {
   "cell_type": "code",
   "execution_count": 125,
   "metadata": {},
   "outputs": [
    {
     "name": "stdout",
     "output_type": "stream",
     "text": [
      "w[0]: 0.393906  b: -0.031804\n"
     ]
    },
    {
     "data": {
      "image/png": "[encoded data removed]",
      "text/plain": [
       "<Figure size 576x576 with 1 Axes>"
      ]
     },
     "metadata": {
      "needs_background": "light"
     },
     "output_type": "display_data"
    }
   ],
   "source": [
    "# 線形モデル x waveデータセット\n",
    "mglearn.plots.plot_linear_regression_wave()"
   ]
  },
  {
   "cell_type": "code",
   "execution_count": 126,
   "metadata": {},
   "outputs": [],
   "source": [
    "# -> 傾き(w)≒0.4、切片≒0と図からも読み取れる。"
   ]
  },
  {
   "cell_type": "markdown",
   "metadata": {},
   "source": [
    "線形回帰：\n",
    "- 特徴量数 = 1：　直線\n",
    "- 特徴量数 = 2：　平面\n",
    "- 特徴量数 = 3以上：　超平面\n",
    "\n",
    "線形モデルの長所：\n",
    "- 特徴量が多数の場合に強力\n",
    "（特に、訓練データ数　＜　特徴量数　\n",
    "　：　どんなyでも完全に訓練データの線形関数としてモデル化可能（線形代数より））\n",
    "\n",
    "線形回帰のアルゴリズム：\n",
    "- 色々ある（w,bを学習する方法と、モデルの複雑さを制御する方法が違う）\n",
    "\n",
    "2.3.3.2 線形回帰（通常最小二乗法）\n",
    "p48"
   ]
  },
  {
   "cell_type": "code",
   "execution_count": null,
   "metadata": {},
   "outputs": [],
   "source": [
    "\n"
   ]
  }
 ],
 "metadata": {
  "kernelspec": {
   "display_name": "Python 3",
   "language": "python",
   "name": "python3"
  },
  "language_info": {
   "codemirror_mode": {
    "name": "ipython",
    "version": 3
   },
   "file_extension": ".py",
   "mimetype": "text/x-python",
   "name": "python",
   "nbconvert_exporter": "python",
   "pygments_lexer": "ipython3",
   "version": "3.7.0"
  }
 },
 "nbformat": 4,
 "nbformat_minor": 2
}
