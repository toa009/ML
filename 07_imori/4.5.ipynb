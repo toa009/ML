{
 "cells": [
  {
   "cell_type": "markdown",
   "metadata": {},
   "source": [
    "4.5\n",
    "\n",
    "機械学習応用で最重要：\n",
    " 1. 特徴量選択\n",
    " 2. 特徴量と機械学習手法との組み合わせ\n",
    "\n",
    "特徴量の選択戦略 （全て教師あり）（特徴量選択には訓練セットだけ用いる）：\n",
    " 1. 単変量統計　（モデル不使用）\n",
    " 2. モデルベース選択　（モデル1つ使用）\n",
    " 3. 反復選択　（モデル複数使用）\n"
   ]
  },
  {
   "cell_type": "markdown",
   "metadata": {},
   "source": [
    "4.5.1\n",
    "\n",
    "単変量統計:\n",
    " - 特徴量とターゲット間の統計的関係を求め、信頼度が最も高い特徴量を採用。\n",
    " - クラス分類でいう分散分析（ANOVA:Analysis of Variance)\n",
    " - 単変量：個々の特徴量を個別に考慮：他の特徴量と組み合わせて意味を持つものは捨てられる。\n",
    " - テストを選択：\n",
    "  1. クラス分類： f_classif　（デフォルト値）\n",
    "  2. 回帰： f_regression\n",
    " - テストで求められるp-値を元に、特徴量を捨てる方法も指定（p-値が過大（yと無関係）な特徴量を捨てる閾値指定）\n",
    " - 閾値計算方法： \n",
    "  1. SelectKBest　（選択する特徴量数を指定。最も単純。）\n",
    "  2. SelectPercentile (残す特徴量の割合を選択）\n",
    "\n",
    " "
   ]
  },
  {
   "cell_type": "markdown",
   "metadata": {},
   "source": [
    "特徴量抽出（cancer、クラス分類）"
   ]
  },
  {
   "cell_type": "code",
   "execution_count": 16,
   "metadata": {},
   "outputs": [],
   "source": [
    "import numpy as np\n",
    "import pandas as pd\n",
    "import matplotlib.pyplot as plt\n",
    "import mglearn\n",
    "%matplotlib inline"
   ]
  },
  {
   "cell_type": "code",
   "execution_count": 9,
   "metadata": {},
   "outputs": [
    {
     "data": {
      "text/plain": [
       "(284, 80)"
      ]
     },
     "execution_count": 9,
     "metadata": {},
     "output_type": "execute_result"
    }
   ],
   "source": [
    "from sklearn.datasets import load_breast_cancer\n",
    "from sklearn.feature_selection import SelectPercentile\n",
    "from sklearn.model_selection import train_test_split\n",
    "\n",
    "d = load_breast_cancer()\n",
    "x,y = d.data, d.target\n",
    "\n",
    "r = np.random.RandomState(42)\n",
    "n = r.normal(size=(len(x), 50))\n",
    "\n",
    "xn = np.hstack([x,n]) # 最初の30特徴量：データセットから、後の50特徴量はノイズ\n",
    "\n",
    "ax,ex,ay,ey = train_test_split(xn,y,random_state=0,test_size=.5)\n",
    "s = SelectPercentile(percentile=50) # 50%の特徴量を選択\n",
    "s.fit(ax,ay)\n",
    "\n",
    "axs = s.transform(ax)\n",
    "ax.shape"
   ]
  },
  {
   "cell_type": "code",
   "execution_count": 10,
   "metadata": {},
   "outputs": [
    {
     "data": {
      "text/plain": [
       "(284, 40)"
      ]
     },
     "execution_count": 10,
     "metadata": {},
     "output_type": "execute_result"
    }
   ],
   "source": [
    "axs.shape"
   ]
  },
  {
   "cell_type": "markdown",
   "metadata": {},
   "source": [
    "-> 特徴量が80から40に減少（選別）。選択した特徴量："
   ]
  },
  {
   "cell_type": "code",
   "execution_count": 17,
   "metadata": {},
   "outputs": [
    {
     "data": {
      "text/plain": [
       "array([ True,  True,  True,  True,  True,  True,  True,  True,  True,\n",
       "       False,  True, False,  True,  True,  True,  True,  True,  True,\n",
       "       False, False,  True,  True,  True,  True,  True,  True,  True,\n",
       "        True,  True,  True, False, False, False,  True, False,  True,\n",
       "       False, False,  True, False, False, False, False,  True, False,\n",
       "       False,  True, False, False,  True, False,  True, False, False,\n",
       "       False, False, False, False,  True, False,  True, False, False,\n",
       "       False, False,  True, False,  True, False, False, False, False,\n",
       "        True,  True, False,  True, False, False, False, False])"
      ]
     },
     "execution_count": 17,
     "metadata": {},
     "output_type": "execute_result"
    }
   ],
   "source": [
    "# 選択した特徴量\n",
    "b = s.get_support()\n",
    "b"
   ]
  },
  {
   "cell_type": "code",
   "execution_count": 18,
   "metadata": {},
   "outputs": [
    {
     "data": {
      "text/plain": [
       "(80,)"
      ]
     },
     "execution_count": 18,
     "metadata": {},
     "output_type": "execute_result"
    }
   ],
   "source": [
    "b.shape"
   ]
  },
  {
   "cell_type": "code",
   "execution_count": 19,
   "metadata": {},
   "outputs": [
    {
     "data": {
      "image/png": "[encoded data removed]",
      "text/plain": [
       "<Figure size 1152x144 with 1 Axes>"
      ]
     },
     "metadata": {
      "needs_background": "light"
     },
     "output_type": "display_data"
    }
   ],
   "source": [
    "# 選択是非をプロット\n",
    "plt.matshow(b.reshape(1,-1), cmap='gray_r'); # cmap='gray_r'"
   ]
  },
  {
   "cell_type": "markdown",
   "metadata": {},
   "source": [
    "-> 前半の特徴量（30/80)のほとんどが選択されている"
   ]
  },
  {
   "cell_type": "code",
   "execution_count": 22,
   "metadata": {},
   "outputs": [
    {
     "name": "stderr",
     "output_type": "stream",
     "text": [
      "/usr/local/lib/python3.7/site-packages/sklearn/linear_model/logistic.py:433: FutureWarning: Default solver will be changed to 'lbfgs' in 0.22. Specify a solver to silence this warning.\n",
      "  FutureWarning)\n"
     ]
    },
    {
     "data": {
      "text/plain": [
       "0.9298245614035088"
      ]
     },
     "execution_count": 22,
     "metadata": {},
     "output_type": "execute_result"
    }
   ],
   "source": [
    "# ロジスティック回帰で性能比較　（全特徴量の場合と選択された特徴量の場合）\n",
    "# 全特徴量のスコア(80個)\n",
    "from sklearn.linear_model import LogisticRegression\n",
    "exs  = s.transform(ex)\n",
    "m = LogisticRegression()\n",
    "m.fit(ax,ay)\n",
    "m.score(ex,ey) "
   ]
  },
  {
   "cell_type": "code",
   "execution_count": 23,
   "metadata": {},
   "outputs": [
    {
     "name": "stderr",
     "output_type": "stream",
     "text": [
      "/usr/local/lib/python3.7/site-packages/sklearn/linear_model/logistic.py:433: FutureWarning: Default solver will be changed to 'lbfgs' in 0.22. Specify a solver to silence this warning.\n",
      "  FutureWarning)\n"
     ]
    },
    {
     "data": {
      "text/plain": [
       "0.9403508771929825"
      ]
     },
     "execution_count": 23,
     "metadata": {},
     "output_type": "execute_result"
    }
   ],
   "source": [
    "# 単変量特徴量選択によるスコア(40個)\n",
    "m.fit(axs, ay)\n",
    "m.score(exs,ey)"
   ]
  },
  {
   "cell_type": "markdown",
   "metadata": {},
   "source": [
    "-> 特徴量を選別した方が性能良くなった（92% -> 94%）"
   ]
  },
  {
   "cell_type": "markdown",
   "metadata": {},
   "source": [
    "4.5.2\n",
    "モデルベース特徴量選択：\n",
    " - 教師あり学習モデルで個々の特徴量の重要性を判断し、重要なものだけ残す手法\n",
    " - そのモデルは最終的に使うモデルと異なっても良い\n",
    " - モデルは特徴量の重要性の指標を出力するものを用いる（決定系など）\n",
    " - 重要性を表す指標（例）：\n",
    "  - 線形モデルの係数の絶対値\n",
    "  - 決定木系のfeature_importances_\n",
    " - L1ペナルティの線形モデル： 疎な係数を学習 （=特徴量の一部だけ使用） -> これを特徴量選択に使用可能\n",
    " - 全ての特徴量を同時に考慮　＝　変数間の交互作用がわかる\n",
    " - SelectFromModel変換器を使用\n",
    " - 特徴量の重要度が、指定した閾値より大きい特徴量だけ選択\n"
   ]
  },
  {
   "cell_type": "markdown",
   "metadata": {},
   "source": [
    "モデルベース特徴量選択："
   ]
  },
  {
   "cell_type": "code",
   "execution_count": 30,
   "metadata": {},
   "outputs": [
    {
     "name": "stdout",
     "output_type": "stream",
     "text": [
      "(284, 80)\n",
      "(284, 40)\n"
     ]
    }
   ],
   "source": [
    "from sklearn.feature_selection import SelectFromModel\n",
    "from sklearn.ensemble import RandomForestClassifier\n",
    "s = SelectFromModel(\n",
    "    RandomForestClassifier(n_estimators=100, random_state=42),\n",
    "    threshold=\"median\") # 内部の決定木数：100\n",
    "s.fit(ax,ay)\n",
    "ax1 = s.transform(ax)\n",
    "print(ax.shape)\n",
    "print(ax1.shape)"
   ]
  },
  {
   "cell_type": "markdown",
   "metadata": {},
   "source": [
    "-> 特徴量数が半分に減少（80->40)"
   ]
  },
  {
   "cell_type": "code",
   "execution_count": 33,
   "metadata": {},
   "outputs": [
    {
     "data": {
      "image/png": "[encoded data removed]",
      "text/plain": [
       "<Figure size 1152x144 with 1 Axes>"
      ]
     },
     "metadata": {
      "needs_background": "light"
     },
     "output_type": "display_data"
    }
   ],
   "source": [
    "# 採用された特徴量をプロット\n",
    "b = s.get_support()\n",
    "plt.matshow(b.reshape(1,-1), cmap='gray_r');"
   ]
  },
  {
   "cell_type": "markdown",
   "metadata": {},
   "source": [
    "-> 黒が採用された特徴量。約半分が採用されていることがわかる。"
   ]
  },
  {
   "cell_type": "code",
   "execution_count": 36,
   "metadata": {},
   "outputs": [
    {
     "name": "stderr",
     "output_type": "stream",
     "text": [
      "/usr/local/lib/python3.7/site-packages/sklearn/linear_model/logistic.py:433: FutureWarning: Default solver will be changed to 'lbfgs' in 0.22. Specify a solver to silence this warning.\n",
      "  FutureWarning)\n"
     ]
    },
    {
     "data": {
      "text/plain": [
       "0.9508771929824561"
      ]
     },
     "execution_count": 36,
     "metadata": {},
     "output_type": "execute_result"
    }
   ],
   "source": [
    "# モデルベース特徴量選択によるスコア(40個選択)\n",
    "ex1 = s.transform(ex)\n",
    "LogisticRegression().fit(ax1,ay).score(ex1,ey)"
   ]
  },
  {
   "cell_type": "markdown",
   "metadata": {},
   "source": [
    "-> 性能向上している（重要度の高い特徴量の選択による）"
   ]
  },
  {
   "cell_type": "markdown",
   "metadata": {},
   "source": [
    "4.5.3 反復特徴量選択\n",
    " - 異なる特徴量を用いた一連のモデルを作成　（→計算コスト大）\n",
    " - 特徴量の重要度を表示できるモデルを使用すること\n",
    " - 手法：\n",
    "  1. 特徴量を増やす（ゼロから1つずつ、基準満たすまで増やす）\n",
    "  2. 特徴量を減らす（全て使用している状態から）\n",
    "    - 再帰的特徴量削減 (RFE: Recursive Feature Elimination)\n",
    "       1. 全ての特徴量からモデルを作り、そのモデルから最も重要度の低い特徴量を削除\n",
    "       2. 残りの特徴量からモデルを作り、そのモデルから最も重要度の低い特徴量を削除\n",
    "       3. 基準を満たすまで上記を繰り返し\n"
   ]
  },
  {
   "cell_type": "code",
   "execution_count": null,
   "metadata": {},
   "outputs": [],
   "source": []
  }
 ],
 "metadata": {
  "kernelspec": {
   "display_name": "Python 3",
   "language": "python",
   "name": "python3"
  },
  "language_info": {
   "codemirror_mode": {
    "name": "ipython",
    "version": 3
   },
   "file_extension": ".py",
   "mimetype": "text/x-python",
   "name": "python",
   "nbconvert_exporter": "python",
   "pygments_lexer": "ipython3",
   "version": "3.7.1"
  }
 },
 "nbformat": 4,
 "nbformat_minor": 2
}
